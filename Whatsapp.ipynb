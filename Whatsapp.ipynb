{
 "cells": [
  {
   "cell_type": "code",
   "execution_count": null,
   "metadata": {},
   "outputs": [],
   "source": [
    "import pandas as pd\n",
    "import re\n",
    "import matplotlib.pyplot as plt\n",
    "plt.style.use('ggplot')"
   ]
  },
  {
   "cell_type": "code",
   "execution_count": null,
   "metadata": {},
   "outputs": [],
   "source": [
    "#Red txt data file \n",
    "with open(\"WhatsApp Chat with 2NYP Data Project.txt\", encoding = \"utf-8\") as file:\n",
    "    chats = file.readlines()\n",
    "print(len(chats))"
   ]
  },
  {
   "cell_type": "code",
   "execution_count": null,
   "metadata": {},
   "outputs": [],
   "source": [
    "#Remove new lines\n",
    "chats = [line.strip() for line in chats]\n",
    "\n",
    "#Getting join notification lines\n",
    "jn = [line for line in chats if  not \"joined using this\" in line]\n",
    "\n",
    "#Further cleaning\n",
    "#Remove empty lines\n",
    "jn = [line for line in jn if len(line) > 1]\n",
    "print(len(jn))"
   ]
  },
  {
   "cell_type": "code",
   "execution_count": null,
   "metadata": {},
   "outputs": [],
   "source": [
    "jn = [line for line in jn if not \"You changed\" in line]\n",
    "print(len(jn))"
   ]
  },
  {
   "cell_type": "code",
   "execution_count": null,
   "metadata": {},
   "outputs": [],
   "source": [
    "#Drop media file lines\n",
    "media = [line for line in jn if 'omitted' in line]\n",
    "print(\"There were {} media files in this time\".format(len(media)))\n",
    "convo = [line for line in jn if not 'omitted' in line]\n",
    "print(len(convo))"
   ]
  },
  {
   "cell_type": "code",
   "execution_count": null,
   "metadata": {},
   "outputs": [],
   "source": [
    "#Merge messages that belong together\n",
    "msgs = [] #message container\n",
    "pos = 0 #counter for position of msgs in the container\n",
    "\"\"\"\n",
    "Flow:\n",
    "For every line, see if it matches the expression which is starting with the format \"number(s)+slash\" eg \"12/\"\n",
    "If it does, it is a new line of conversion as they begin with dates, add it to msgs container\n",
    "Else, it is a continuation of the previous line, add it to the previous line and append to msgs, then pop previous line.\n",
    "\"\"\"\n",
    "for line in convo:\n",
    "    if re.findall(\"\\A\\d+[/]\", line):\n",
    "        msgs.append(line)\n",
    "        pos += 1\n",
    "    else:\n",
    "        take = msgs[pos-1] + \". \" + line\n",
    "        msgs.append(take)\n",
    "        msgs.pop(pos-1)\n",
    "\n",
    "len(msgs)"
   ]
  },
  {
   "cell_type": "code",
   "execution_count": null,
   "metadata": {},
   "outputs": [],
   "source": [
    "msgs[:10]"
   ]
  },
  {
   "cell_type": "code",
   "execution_count": null,
   "metadata": {},
   "outputs": [],
   "source": [
    "#Drop first two lines: auto msg\n",
    "msgs = msgs[2:]\n",
    "len(msgs)"
   ]
  },
  {
   "cell_type": "code",
   "execution_count": null,
   "metadata": {},
   "outputs": [],
   "source": [
    "msgs[:3]"
   ]
  },
  {
   "cell_type": "code",
   "execution_count": null,
   "metadata": {},
   "outputs": [],
   "source": [
    "msgs[0].split()[3:9]"
   ]
  },
  {
   "cell_type": "code",
   "execution_count": null,
   "metadata": {},
   "outputs": [],
   "source": [
    "#make arrays of different parts of the messages\n",
    "date = []\n",
    "time = []\n",
    "number = []\n",
    "msg = []\n",
    "counter = 0\n",
    "for line in msgs:\n",
    "    x = line.split()\n",
    "    if len(x) != 1:\n",
    "        #Get the date\n",
    "        dating = x[0]\n",
    "        date.append(dating.replace(',',''))\n",
    "\n",
    "        #Get the time\n",
    "        try:\n",
    "            timing = x[1] + \" \" +x[2]\n",
    "            time.append(timing)\n",
    "        except:\n",
    "            print(line)\n",
    "            break\n",
    "\n",
    "        #Get number\n",
    "        num = \" \".join(x[3:9]) #the parts numbers/names fall in\n",
    "        try:\n",
    "            match = re.search(r\"- ([^']*):\", num).group(1) #match between '- ' and ':' where they are per se\n",
    "            number.append(match)\n",
    "        except:\n",
    "            number.append(\"-\")\n",
    "            pass\n",
    "        #Get message\n",
    "        #num = \" \".join(x[3:8]) #num/name position\n",
    "        #match = re.search(r\"- ([^']*):\", num).group(1) #isolate the num/name per se\n",
    "        part = line.partition(match)[2] #partition according to the match and extract the last part, the msg\n",
    "        msging = part[2:] #strip off the first two characters as they are \": \"\n",
    "        msg.append(msging)\n",
    "\n",
    "    #     counter += 1\n",
    "    #     print(counter)\n",
    "    else:\n",
    "        print(\"This is a bad lie.\\n{}\".format(line))\n",
    "print(len(date), len(time), len(number), len(msg))"
   ]
  },
  {
   "cell_type": "code",
   "execution_count": null,
   "metadata": {},
   "outputs": [],
   "source": [
    "#Put in a dataframe\n",
    "_2nyp = pd.DataFrame()\n",
    "_2nyp[\"date\"] = date\n",
    "_2nyp[\"time\"] = time\n",
    "_2nyp[\"number_author\"] = number\n",
    "_2nyp[\"msg\"] = msg\n",
    "\n",
    "_2nyp.head()"
   ]
  },
  {
   "cell_type": "code",
   "execution_count": null,
   "metadata": {},
   "outputs": [],
   "source": [
    "top_msg_times = _2nyp.time.value_counts(ascending=False).head(10)\n",
    "ax1 = top_msg_times.plot(kind=\"bar\", color='Darkblue', figsize=(12,5))\n",
    "ax1.set_xlabel ('Time')\n",
    "ax1.set_ylabel ('Frequency')\n",
    "ax1.set_title(\"Top 10 Time of Engagement\")\n",
    "\n",
    "\n",
    "plt.show()\n",
    "%matplotlib inline"
   ]
  },
  {
   "cell_type": "code",
   "execution_count": null,
   "metadata": {},
   "outputs": [],
   "source": [
    "top10messengers = _2nyp.number_author.value_counts(ascending=False).head(10)\n",
    "# print(top10messengers)\n",
    "ax = top10messengers.plot.barh(color='Gold', figsize=(12,5))\n",
    "ax.set_xlabel ('Number of sent message')\n",
    "ax.set_ylabel(\"Users\")\n",
    "ax.set_title(\"Top 10 Users that sent more messages\")\n",
    "plt.show()"
   ]
  },
  {
   "cell_type": "markdown",
   "metadata": {},
   "source": [
    "## NLP"
   ]
  },
  {
   "cell_type": "code",
   "execution_count": null,
   "metadata": {},
   "outputs": [],
   "source": [
    "import nltk \n",
    "from nltk.corpus import stopwords \n",
    "from nltk import ngrams\n",
    "from collections import Counter"
   ]
  },
  {
   "cell_type": "code",
   "execution_count": null,
   "metadata": {},
   "outputs": [],
   "source": [
    "words = _2nyp.msg.tolist()"
   ]
  },
  {
   "cell_type": "code",
   "execution_count": null,
   "metadata": {},
   "outputs": [],
   "source": [
    "# Create stopwords\n",
    "stop_words = list(set(stopwords.words('english')))\n",
    "stop_words.extend(['axamansard', 'st', 'axa', 'mansard'])"
   ]
  },
  {
   "cell_type": "code",
   "execution_count": null,
   "metadata": {},
   "outputs": [],
   "source": [
    "tokens = []\n",
    "for line in words:\n",
    "    token = [i for i in line.split()]\n",
    "    tokens.append(' '.join(token)) #Convert back to string        \n",
    "len(tokens)"
   ]
  },
  {
   "cell_type": "code",
   "execution_count": null,
   "metadata": {},
   "outputs": [],
   "source": [
    "tokens[0]"
   ]
  },
  {
   "cell_type": "code",
   "execution_count": null,
   "metadata": {},
   "outputs": [],
   "source": [
    "# Preprocessing \n",
    "def clean1(s):    \n",
    "    # removes special characters with ' ' \n",
    "    stripped = re.sub('[^a-zA-z\\s]', '', s) \n",
    "    stripped = re.sub('_', '', stripped) \n",
    "      \n",
    "    # Change any white space to one space \n",
    "    stripped = re.sub('\\s+', ' ', stripped) \n",
    "      \n",
    "    # Remove start and end white spaces\n",
    "    stripped = stripped.strip()\n",
    "    \n",
    "    #Remove links, links and convert to lowercase\n",
    "    stripped = ' '.join([line for line in stripped.split() if not line.startswith('http')])\n",
    "    words = [line.lower() for line in stripped.split() if not line.lower() in stop_words]\n",
    "    tokens = ' '.join(words)\n",
    "    \n",
    "    return tokens"
   ]
  },
  {
   "cell_type": "code",
   "execution_count": null,
   "metadata": {},
   "outputs": [],
   "source": [
    "#Clean the lines\n",
    "cleaned = []\n",
    "for line in tokens:\n",
    "    words = clean1(line)\n",
    "    if words != '':\n",
    "        cleaned.append(words)\n",
    "len(cleaned)"
   ]
  },
  {
   "cell_type": "code",
   "execution_count": null,
   "metadata": {},
   "outputs": [],
   "source": [
    "cleaned[:5]"
   ]
  },
  {
   "cell_type": "code",
   "execution_count": null,
   "metadata": {},
   "outputs": [],
   "source": [
    "#Make tokens of the cleaned tweets\n",
    "corpus = ' '.join(cleaned)"
   ]
  },
  {
   "cell_type": "code",
   "execution_count": null,
   "metadata": {},
   "outputs": [],
   "source": [
    "#Word cloud\n",
    "print(\"2NYP Whatsapp Group Chat WC\")\n",
    "from PIL import Image\n",
    "from wordcloud import WordCloud, STOPWORDS, ImageColorGenerator\n",
    "import matplotlib.pyplot as plt\n",
    "%matplotlib inline\n",
    "wordcloud = WordCloud(\n",
    "                          background_color='white',\n",
    "                          stopwords=stop_words,\n",
    "                          max_words=50,\n",
    "                          max_font_size=50, \n",
    "                          random_state=42\n",
    "                         ).generate(str(corpus))\n",
    "print(wordcloud)\n",
    "fig = plt.figure(1)\n",
    "plt.imshow(wordcloud)\n",
    "plt.axis('off')\n",
    "plt.show()\n",
    "fig.savefig(\"word1.png\", dpi=900)"
   ]
  },
  {
   "cell_type": "code",
   "execution_count": null,
   "metadata": {},
   "outputs": [],
   "source": []
  }
 ],
 "metadata": {
  "kernelspec": {
   "display_name": "Python 3",
   "language": "python",
   "name": "python3"
  },
  "language_info": {
   "codemirror_mode": {
    "name": "ipython",
    "version": 3
   },
   "file_extension": ".py",
   "mimetype": "text/x-python",
   "name": "python",
   "nbconvert_exporter": "python",
   "pygments_lexer": "ipython3",
   "version": "3.7.4"
  }
 },
 "nbformat": 4,
 "nbformat_minor": 2
}
