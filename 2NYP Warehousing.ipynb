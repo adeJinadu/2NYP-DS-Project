{
 "cells": [
  {
   "cell_type": "code",
   "execution_count": 12,
   "metadata": {},
   "outputs": [],
   "source": [
    "import pyodbc, time, os\n",
    "import pandas as pd\n",
    "\n",
    "import urllib\n",
    "from sqlalchemy import create_engine, types\n",
    "import fesh_creds"
   ]
  },
  {
   "cell_type": "code",
   "execution_count": null,
   "metadata": {},
   "outputs": [],
   "source": [
    "files = [line for line in os.listdir() if line.endswith('xlsx')]\n",
    "len(files)"
   ]
  },
  {
   "cell_type": "code",
   "execution_count": null,
   "metadata": {},
   "outputs": [],
   "source": [
    "#Checker\n",
    "checker = ['id',  'text', 'source', 'in_reply_to_status_id', 'create_date', 'create_time', 'followers',\n",
    "           'fav_count', 'statuses_count', 'loacation', 'verified', 'name', 'screen_name']"
   ]
  },
  {
   "cell_type": "code",
   "execution_count": null,
   "metadata": {},
   "outputs": [],
   "source": [
    "#Assemble all files\n",
    "dfs = []\n",
    "for item in files:\n",
    "    df = pd.read_excel(item)\n",
    "    if df.columns.tolist() == checker:\n",
    "        dfs.append(df)\n",
    "        print(f\"{item} done\")\n",
    "    else:\n",
    "        print(f\"Inconsistent column names in {item}\")"
   ]
  },
  {
   "cell_type": "code",
   "execution_count": null,
   "metadata": {},
   "outputs": [],
   "source": [
    "combo = pd.concat(dfs).reset_index(drop=True)\n",
    "combo.shape"
   ]
  },
  {
   "cell_type": "code",
   "execution_count": null,
   "metadata": {},
   "outputs": [],
   "source": [
    "[line for line in combo.columns]"
   ]
  },
  {
   "cell_type": "code",
   "execution_count": null,
   "metadata": {},
   "outputs": [],
   "source": [
    "#Rename id to tweet_id\n",
    "combo = combo.rename(columns = {'id':'tweet_id'})\n",
    "combo.keys()"
   ]
  },
  {
   "cell_type": "code",
   "execution_count": null,
   "metadata": {},
   "outputs": [],
   "source": [
    "dtypes = ['bigint NOT NULL',\n",
    " 'varchar (254)',\n",
    " 'varchar (254)',\n",
    " 'varchar (254)',\n",
    " 'varchar (254) NOT NULL',\n",
    " 'varchar (254) NOT NULL',\n",
    " 'bigint',\n",
    " 'bigint',\n",
    " 'bigint',\n",
    " 'varchar (254)',\n",
    " 'varchar (7)',\n",
    " 'varchar (254)',\n",
    " 'varchar (254)',\n",
    "         ]"
   ]
  },
  {
   "cell_type": "code",
   "execution_count": null,
   "metadata": {},
   "outputs": [],
   "source": [
    "for i, j in zip(combo.columns.tolist(), dtypes):\n",
    "    print(f\"{i}  {'>'*10} {j}\")"
   ]
  },
  {
   "cell_type": "code",
   "execution_count": null,
   "metadata": {},
   "outputs": [],
   "source": [
    "tweets = [line for line in combo.text if not line.startswith('RT')]\n",
    "retweets = [line for line in combo.text if line.startswith('RT')]\n",
    "\n",
    "print(len(tweets), len(retweets)"
   ]
  },
  {
   "cell_type": "code",
   "execution_count": null,
   "metadata": {},
   "outputs": [],
   "source": [
    "#Some RTS have no content after the starting RT\n",
    "oya = []\n",
    "for line in retweets:\n",
    "    x = line.split()\n",
    "    try:\n",
    "        oya.append(x[1])\n",
    "    except:\n",
    "        continue"
   ]
  },
  {
   "cell_type": "code",
   "execution_count": null,
   "metadata": {},
   "outputs": [],
   "source": [
    "len(retweets) - len(oya)"
   ]
  },
  {
   "cell_type": "code",
   "execution_count": null,
   "metadata": {},
   "outputs": [],
   "source": [
    "from collections import Counter"
   ]
  },
  {
   "cell_type": "code",
   "execution_count": null,
   "metadata": {},
   "outputs": [],
   "source": [
    "Counter(oya).most_common(20)"
   ]
  },
  {
   "cell_type": "markdown",
   "metadata": {},
   "source": [
    "# Onboarding"
   ]
  },
  {
   "cell_type": "code",
   "execution_count": null,
   "metadata": {},
   "outputs": [],
   "source": [
    "#Make connection\n",
    "params = urllib.parse.quote_plus(\n",
    "    'DRIVER={ODBC Driver 17 for SQL Server};SERVER=FESH\\FESHQL; DATABASE=feshdb; Trusted_Connection=yes'\n",
    ")\n",
    "\n",
    "engine = create_engine(\"mssql+pyodbc:///?odbc_connect=%s\" % params)"
   ]
  },
  {
   "cell_type": "code",
   "execution_count": 10,
   "metadata": {},
   "outputs": [
    {
     "data": {
      "text/plain": [
       "'C:\\\\Users\\\\USER\\\\Desktop\\\\2NYP\\\\2NYP Database'"
      ]
     },
     "execution_count": 10,
     "metadata": {},
     "output_type": "execute_result"
    }
   ],
   "source": [
    "import os\n",
    "os.getcwd()"
   ]
  },
  {
   "cell_type": "code",
   "execution_count": 9,
   "metadata": {},
   "outputs": [
    {
     "data": {
      "text/plain": [
       "'FESH\\\\FESHQL'"
      ]
     },
     "execution_count": 9,
     "metadata": {},
     "output_type": "execute_result"
    }
   ],
   "source": [
    "fesh_creds.server"
   ]
  },
  {
   "cell_type": "code",
   "execution_count": 14,
   "metadata": {},
   "outputs": [
    {
     "name": "stdout",
     "output_type": "stream",
     "text": [
      "Connected to the Server... Cursor hot!\n"
     ]
    }
   ],
   "source": [
    "################### BUILD CXN STRING ###################\n",
    "#Create connection\n",
    "server = fesh_creds.server\n",
    "database = fesh_creds.database\n",
    "username = fesh_creds.username\n",
    "password = fesh_creds.password\n",
    "trust = 'yes'\n",
    "port = '1433'\n",
    "cxn = pyodbc.connect(\n",
    "    'DRIVER={SQL Server};SERVER='+server+';PORT='+port+';DATABASE='+database+';'\n",
    "    )\n",
    "\n",
    "#Connect\n",
    "cursor = cxn.cursor()\n",
    "\n",
    "print(\"Connected to the Server... Cursor hot!\")\n",
    "time.sleep(2)"
   ]
  },
  {
   "cell_type": "code",
   "execution_count": null,
   "metadata": {},
   "outputs": [],
   "source": [
    "#query\n",
    "query = \"DROP TABLE IF EXISTS _2NYP; CREATE TABLE _2NYP(tweet_id VARCHAR(50) NOT NULL);\"\n",
    "\n",
    "#create table\n",
    "cursor.execute(query)\n",
    "print(\"Created _2NYP table\")\n",
    "time.sleep(2)\n",
    "\n",
    "#create the rest of the columns\n",
    "for d, t in zip(combo.columns.tolist()[1:], dtypes[1:]):\n",
    "    query2 = \"ALTER TABLE \" + '_2NYP' + \" ADD \" + d + \" \" + t\n",
    "    cursor.execute(query2)\n",
    "\n",
    "#commit\n",
    "cxn.commit()\n",
    "\n",
    "#Cleanup\n",
    "cursor.close()\n",
    "cxn.close()\n",
    "print(\"fConnection closed.\")"
   ]
  },
  {
   "cell_type": "code",
   "execution_count": null,
   "metadata": {},
   "outputs": [],
   "source": [
    "#Write data to LifeRenewals table and replace if exists\n",
    "try:\n",
    "    combo.to_sql('_2NYP', engine, if_exists='append', index=False)\n",
    "    print(\"Successfully writtent to warehouse\")\n",
    "except:\n",
    "    print(\"Something bad occurred!\")"
   ]
  },
  {
   "cell_type": "code",
   "execution_count": null,
   "metadata": {},
   "outputs": [],
   "source": [
    "#Read data from DW\n",
    "query = \"SELECT * from _2NYP;\"\n",
    "dfx = pd.read_sql(query, cxn)"
   ]
  },
  {
   "cell_type": "code",
   "execution_count": null,
   "metadata": {},
   "outputs": [],
   "source": [
    "combo.fav_count.max()"
   ]
  },
  {
   "cell_type": "code",
   "execution_count": null,
   "metadata": {},
   "outputs": [],
   "source": []
  }
 ],
 "metadata": {
  "kernelspec": {
   "display_name": "Python 3",
   "language": "python",
   "name": "python3"
  },
  "language_info": {
   "codemirror_mode": {
    "name": "ipython",
    "version": 3
   },
   "file_extension": ".py",
   "mimetype": "text/x-python",
   "name": "python",
   "nbconvert_exporter": "python",
   "pygments_lexer": "ipython3",
   "version": "3.7.4"
  }
 },
 "nbformat": 4,
 "nbformat_minor": 2
}
